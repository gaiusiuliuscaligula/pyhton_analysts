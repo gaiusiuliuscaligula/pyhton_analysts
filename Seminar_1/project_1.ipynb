{
 "cells": [
  {
   "cell_type": "markdown",
   "source": [
    "# Seminar №1"
   ],
   "metadata": {
    "collapsed": false
   }
  },
  {
   "cell_type": "markdown",
   "source": [
    "## Задача №1"
   ],
   "metadata": {
    "collapsed": false
   }
  },
  {
   "cell_type": "markdown",
   "source": [
    "### На складе лежат разные фрукты в разном количестве. Нужно написать функцию, которая на вход принимает любое количество названий фруктов и их количество, а возвращает общее количество фруктов на складе."
   ],
   "metadata": {
    "collapsed": false
   }
  },
  {
   "cell_type": "code",
   "execution_count": 7,
   "outputs": [],
   "source": [
    "def calculate_total_fruits(*args: str, **kwargs: int) -> int:\n",
    "    total = sum(kwargs.values())\n",
    "    return total"
   ],
   "metadata": {
    "collapsed": false,
    "ExecuteTime": {
     "end_time": "2023-06-19T15:32:25.451239100Z",
     "start_time": "2023-06-19T15:32:25.325338Z"
    }
   }
  },
  {
   "cell_type": "code",
   "execution_count": 8,
   "outputs": [
    {
     "name": "stdout",
     "output_type": "stream",
     "text": [
      "Общее количество фруктов на складе: 23\n"
     ]
    }
   ],
   "source": [
    "fruits = {'apples': 10, 'bananas': 5, 'oranges': 8}\n",
    "total_count = calculate_total_fruits(**fruits)\n",
    "print(\"Общее количество фруктов на складе:\", total_count)"
   ],
   "metadata": {
    "collapsed": false,
    "ExecuteTime": {
     "end_time": "2023-06-19T15:32:25.561081900Z",
     "start_time": "2023-06-19T15:32:25.357044300Z"
    }
   }
  },
  {
   "cell_type": "markdown",
   "source": [
    "## Задача №2"
   ],
   "metadata": {
    "collapsed": false
   }
  },
  {
   "cell_type": "markdown",
   "source": [
    "### Дан список с затратами на рекламу. Но в данных есть ошибки, некоторые затраты имеют отрицательную величину. Удалите такие значения из списка и посчитайте суммарные затраты"
   ],
   "metadata": {
    "collapsed": false
   }
  },
  {
   "cell_type": "code",
   "execution_count": 9,
   "outputs": [
    {
     "name": "stdout",
     "output_type": "stream",
     "text": [
      "Суммарные затраты на рекламу: 1425\n"
     ]
    }
   ],
   "source": [
    "expenses = [100, 125, -90, 345, 655, -1, 0, 200]\n",
    "cleaned_expenses = [expense for expense in expenses if expense >= 0]\n",
    "total_expenses = sum(cleaned_expenses)\n",
    "print(\"Суммарные затраты на рекламу:\", total_expenses)"
   ],
   "metadata": {
    "collapsed": false,
    "ExecuteTime": {
     "end_time": "2023-06-19T15:32:25.580764800Z",
     "start_time": "2023-06-19T15:32:25.372696500Z"
    }
   }
  },
  {
   "cell_type": "markdown",
   "source": [
    "## Задача №3"
   ],
   "metadata": {
    "collapsed": false
   }
  },
  {
   "cell_type": "markdown",
   "source": [
    "### Даны два списка. Найдите, какая выручка у компании в ноябре. Используйте list comprehensions. Найдите выручку компании в зависимости от месяца. Для этого напишите функцию, которая на вход принимает список с датами и список с выручкой, а на выходе словарь, где ключи - это месяцы, а значения - это выручка. Используйте аннотирование типов."
   ],
   "metadata": {
    "collapsed": false
   }
  },
  {
   "cell_type": "markdown",
   "source": [
    "### Задача №3.1 Найдите, какая выручка у компании в ноябре."
   ],
   "metadata": {
    "collapsed": false
   }
  },
  {
   "cell_type": "code",
   "execution_count": 10,
   "outputs": [
    {
     "name": "stdout",
     "output_type": "stream",
     "text": [
      "Выручка компании в ноябре: 25098\n"
     ]
    }
   ],
   "source": [
    "purchase_dates = [\n",
    "    '2021-09-14', '2021-12-15', '2021-09-08', '2021-12-05', '2021-10-09',\n",
    "    '2021-09-30', '2021-12-22', '2021-11-29', '2021-12-24', '2021-11-26',\n",
    "    '2021-10-27', '2021-12-18', '2021-11-09', '2021-11-23', '2021-09-27',\n",
    "    '2021-10-02', '2021-12-27', '2021-09-20', '2021-12-13', '2021-11-01',\n",
    "    '2021-11-09', '2021-12-06', '2021-12-08', '2021-10-09', '2021-10-31',\n",
    "    '2021-09-30', '2021-11-09', '2021-12-13', '2021-10-26', '2021-12-09'\n",
    "]\n",
    "\n",
    "purchase_amounts = [\n",
    "    1270, 8413, 9028, 3703, 5739, 4095, 295, 4944, 5723, 3701, 4471,\n",
    "    651, 7037, 4274, 6275, 4988, 6930, 2971, 6592, 2004, 2822, 519,\n",
    "    3406, 2732, 5015, 2008, 316, 6333, 5700, 2887\n",
    "]\n",
    "\n",
    "revenue_november = sum([amount for date, amount in zip(purchase_dates, purchase_amounts) if date.startswith('2021-11')])\n",
    "print(\"Выручка компании в ноябре:\", revenue_november)"
   ],
   "metadata": {
    "collapsed": false,
    "ExecuteTime": {
     "end_time": "2023-06-19T15:32:25.599765500Z",
     "start_time": "2023-06-19T15:32:25.435192Z"
    }
   }
  },
  {
   "cell_type": "markdown",
   "source": [
    "### Задача №3.2 Найдите выручку компании в зависимости от месяца."
   ],
   "metadata": {
    "collapsed": false
   }
  },
  {
   "cell_type": "code",
   "execution_count": 11,
   "outputs": [],
   "source": [
    "from typing import List, Dict\n",
    "\n",
    "def calculate_monthly_revenue(dates: List[str], amounts: List[int]) -> Dict[str, int]:\n",
    "    monthly_revenue = {}\n",
    "    for date, amount in zip(dates, amounts):\n",
    "        month = date.split('-')[1]\n",
    "        monthly_revenue[month] = monthly_revenue.get(month, 0) + amount\n",
    "    return monthly_revenue"
   ],
   "metadata": {
    "collapsed": false,
    "ExecuteTime": {
     "end_time": "2023-06-19T15:32:25.599765500Z",
     "start_time": "2023-06-19T15:32:25.466888900Z"
    }
   }
  },
  {
   "cell_type": "code",
   "execution_count": 12,
   "outputs": [
    {
     "name": "stdout",
     "output_type": "stream",
     "text": [
      "Выручка компании по месяцам:\n",
      "09 - 25647\n",
      "12 - 45452\n",
      "10 - 28645\n",
      "11 - 25098\n"
     ]
    }
   ],
   "source": [
    "purchase_dates = [\n",
    "    '2021-09-14', '2021-12-15', '2021-09-08', '2021-12-05', '2021-10-09',\n",
    "    '2021-09-30', '2021-12-22', '2021-11-29', '2021-12-24', '2021-11-26',\n",
    "    '2021-10-27', '2021-12-18', '2021-11-09', '2021-11-23', '2021-09-27',\n",
    "    '2021-10-02', '2021-12-27', '2021-09-20', '2021-12-13', '2021-11-01',\n",
    "    '2021-11-09', '2021-12-06', '2021-12-08', '2021-10-09', '2021-10-31',\n",
    "    '2021-09-30', '2021-11-09', '2021-12-13', '2021-10-26', '2021-12-09'\n",
    "]\n",
    "\n",
    "purchase_amounts = [\n",
    "    1270, 8413, 9028, 3703, 5739, 4095, 295, 4944, 5723, 3701, 4471,\n",
    "    651, 7037, 4274, 6275, 4988, 6930, 2971, 6592, 2004, 2822, 519,\n",
    "    3406, 2732, 5015, 2008, 316, 6333, 5700, 2887\n",
    "]\n",
    "\n",
    "monthly_revenue = calculate_monthly_revenue(purchase_dates, purchase_amounts)\n",
    "print(\"Выручка компании по месяцам:\")\n",
    "for month, revenue in monthly_revenue.items():\n",
    "    print(month, \"-\", revenue)"
   ],
   "metadata": {
    "collapsed": false,
    "ExecuteTime": {
     "end_time": "2023-06-19T15:32:25.602775Z",
     "start_time": "2023-06-19T15:32:25.498135400Z"
    }
   }
  },
  {
   "cell_type": "code",
   "execution_count": 12,
   "outputs": [],
   "source": [],
   "metadata": {
    "collapsed": false,
    "ExecuteTime": {
     "end_time": "2023-06-19T15:32:25.604769700Z",
     "start_time": "2023-06-19T15:32:25.545413900Z"
    }
   }
  }
 ],
 "metadata": {
  "kernelspec": {
   "display_name": "Python 3",
   "language": "python",
   "name": "python3"
  },
  "language_info": {
   "codemirror_mode": {
    "name": "ipython",
    "version": 2
   },
   "file_extension": ".py",
   "mimetype": "text/x-python",
   "name": "python",
   "nbconvert_exporter": "python",
   "pygments_lexer": "ipython2",
   "version": "2.7.6"
  }
 },
 "nbformat": 4,
 "nbformat_minor": 0
}
