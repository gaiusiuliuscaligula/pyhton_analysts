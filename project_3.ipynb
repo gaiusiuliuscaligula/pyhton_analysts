{
 "cells": [
  {
   "cell_type": "markdown",
   "source": [
    "## Задача 1"
   ],
   "metadata": {
    "collapsed": false
   }
  },
  {
   "cell_type": "markdown",
   "source": [
    "### Задача 1.1"
   ],
   "metadata": {
    "collapsed": false
   }
  },
  {
   "cell_type": "code",
   "execution_count": 1,
   "outputs": [],
   "source": [
    "import pandas as pd"
   ],
   "metadata": {
    "collapsed": false,
    "ExecuteTime": {
     "end_time": "2023-06-27T13:50:28.181182Z",
     "start_time": "2023-06-27T13:50:25.248389500Z"
    }
   }
  },
  {
   "cell_type": "code",
   "execution_count": 3,
   "outputs": [],
   "source": [
    "data = pd.read_csv('kc_house_data.csv')"
   ],
   "metadata": {
    "collapsed": false,
    "ExecuteTime": {
     "end_time": "2023-06-27T13:52:09.255381200Z",
     "start_time": "2023-06-27T13:52:09.145548300Z"
    }
   }
  },
  {
   "cell_type": "code",
   "execution_count": 4,
   "outputs": [
    {
     "name": "stdout",
     "output_type": "stream",
     "text": [
      "           id             date     price  bedrooms  bathrooms  sqft_living  \\\n",
      "0  7129300520  20141013T000000  221900.0         3       1.00         1180   \n",
      "1  6414100192  20141209T000000  538000.0         3       2.25         2570   \n",
      "2  5631500400  20150225T000000  180000.0         2       1.00          770   \n",
      "3  2487200875  20141209T000000  604000.0         4       3.00         1960   \n",
      "4  1954400510  20150218T000000  510000.0         3       2.00         1680   \n",
      "\n",
      "   sqft_lot  floors  waterfront  view  ...  grade  sqft_above  sqft_basement  \\\n",
      "0      5650     1.0           0     0  ...      7        1180              0   \n",
      "1      7242     2.0           0     0  ...      7        2170            400   \n",
      "2     10000     1.0           0     0  ...      6         770              0   \n",
      "3      5000     1.0           0     0  ...      7        1050            910   \n",
      "4      8080     1.0           0     0  ...      8        1680              0   \n",
      "\n",
      "   yr_built  yr_renovated  zipcode      lat     long  sqft_living15  \\\n",
      "0      1955             0    98178  47.5112 -122.257           1340   \n",
      "1      1951          1991    98125  47.7210 -122.319           1690   \n",
      "2      1933             0    98028  47.7379 -122.233           2720   \n",
      "3      1965             0    98136  47.5208 -122.393           1360   \n",
      "4      1987             0    98074  47.6168 -122.045           1800   \n",
      "\n",
      "   sqft_lot15  \n",
      "0        5650  \n",
      "1        7639  \n",
      "2        8062  \n",
      "3        5000  \n",
      "4        7503  \n",
      "\n",
      "[5 rows x 21 columns]\n"
     ]
    }
   ],
   "source": [
    "print(data.head())"
   ],
   "metadata": {
    "collapsed": false,
    "ExecuteTime": {
     "end_time": "2023-06-27T13:52:11.428708300Z",
     "start_time": "2023-06-27T13:52:11.381388Z"
    }
   }
  },
  {
   "cell_type": "markdown",
   "source": [
    "### Задача 1.2"
   ],
   "metadata": {
    "collapsed": false
   }
  },
  {
   "cell_type": "code",
   "execution_count": 6,
   "outputs": [
    {
     "name": "stdout",
     "output_type": "stream",
     "text": [
      "0         0\n",
      "1        40\n",
      "2         0\n",
      "3         0\n",
      "4         0\n",
      "         ..\n",
      "21608     0\n",
      "21609     0\n",
      "21610     0\n",
      "21611     0\n",
      "21612     0\n",
      "Name: delta_renovated, Length: 21613, dtype: int64\n"
     ]
    }
   ],
   "source": [
    "data['delta_renovated'] = data.apply(lambda row: row['yr_renovated'] - row['yr_built'] if row['yr_renovated'] > 0 else 0, axis=1)\n",
    "print(data['delta_renovated'])"
   ],
   "metadata": {
    "collapsed": false,
    "ExecuteTime": {
     "end_time": "2023-06-27T13:55:14.743864300Z",
     "start_time": "2023-06-27T13:55:14.487705500Z"
    }
   }
  },
  {
   "cell_type": "markdown",
   "source": [
    "### Задача 1.3"
   ],
   "metadata": {
    "collapsed": false
   }
  },
  {
   "cell_type": "code",
   "execution_count": 8,
   "outputs": [
    {
     "name": "stdout",
     "output_type": "stream",
     "text": [
      "0        2014\n",
      "1        2014\n",
      "2        2015\n",
      "3        2014\n",
      "4        2015\n",
      "         ... \n",
      "21608    2014\n",
      "21609    2015\n",
      "21610    2014\n",
      "21611    2015\n",
      "21612    2014\n",
      "Name: year_sold, Length: 21613, dtype: int32\n"
     ]
    }
   ],
   "source": [
    "data['year_sold'] = pd.to_datetime(data['date']).dt.year\n",
    "print(data['year_sold'])"
   ],
   "metadata": {
    "collapsed": false,
    "ExecuteTime": {
     "end_time": "2023-06-27T13:57:21.440482900Z",
     "start_time": "2023-06-27T13:57:21.377550300Z"
    }
   }
  },
  {
   "cell_type": "code",
   "execution_count": 9,
   "outputs": [
    {
     "name": "stdout",
     "output_type": "stream",
     "text": [
      "0        10\n",
      "1        12\n",
      "2         2\n",
      "3        12\n",
      "4         2\n",
      "         ..\n",
      "21608     5\n",
      "21609     2\n",
      "21610     6\n",
      "21611     1\n",
      "21612    10\n",
      "Name: month_sold, Length: 21613, dtype: int32\n"
     ]
    }
   ],
   "source": [
    "data['month_sold'] = pd.to_datetime(data['date']).dt.month\n",
    "print(data['month_sold'])"
   ],
   "metadata": {
    "collapsed": false,
    "ExecuteTime": {
     "end_time": "2023-06-27T13:57:23.865448Z",
     "start_time": "2023-06-27T13:57:23.834163300Z"
    }
   }
  },
  {
   "cell_type": "markdown",
   "source": [
    "### Задача 1.4"
   ],
   "metadata": {
    "collapsed": false
   }
  },
  {
   "cell_type": "code",
   "execution_count": 10,
   "outputs": [
    {
     "name": "stdout",
     "output_type": "stream",
     "text": [
      "           id     price  bedrooms  bathrooms  sqft_living  sqft_lot  floors  \\\n",
      "0  7129300520  221900.0         3       1.00         1180      5650     1.0   \n",
      "1  6414100192  538000.0         3       2.25         2570      7242     2.0   \n",
      "2  5631500400  180000.0         2       1.00          770     10000     1.0   \n",
      "3  2487200875  604000.0         4       3.00         1960      5000     1.0   \n",
      "4  1954400510  510000.0         3       2.00         1680      8080     1.0   \n",
      "\n",
      "   waterfront  view  condition  grade  sqft_above  sqft_basement  yr_built  \\\n",
      "0           0     0          3      7        1180              0      1955   \n",
      "1           0     0          3      7        2170            400      1951   \n",
      "2           0     0          3      6         770              0      1933   \n",
      "3           0     0          5      7        1050            910      1965   \n",
      "4           0     0          3      8        1680              0      1987   \n",
      "\n",
      "   yr_renovated  sqft_living15  sqft_lot15  delta_renovated  year_sold  \\\n",
      "0             0           1340        5650                0       2014   \n",
      "1          1991           1690        7639               40       2014   \n",
      "2             0           2720        8062                0       2015   \n",
      "3             0           1360        5000                0       2014   \n",
      "4             0           1800        7503                0       2015   \n",
      "\n",
      "   month_sold  \n",
      "0          10  \n",
      "1          12  \n",
      "2           2  \n",
      "3          12  \n",
      "4           2  \n"
     ]
    }
   ],
   "source": [
    "data = data.drop(['date', 'zipcode', 'lat', 'long'], axis=1)\n",
    "print(data.head())"
   ],
   "metadata": {
    "collapsed": false,
    "ExecuteTime": {
     "end_time": "2023-06-27T13:58:16.982407800Z",
     "start_time": "2023-06-27T13:58:16.951160400Z"
    }
   }
  },
  {
   "cell_type": "markdown",
   "source": [
    "## Задача 2"
   ],
   "metadata": {
    "collapsed": false
   }
  },
  {
   "cell_type": "markdown",
   "source": [
    "### Задача 2.1"
   ],
   "metadata": {
    "collapsed": false
   }
  },
  {
   "cell_type": "code",
   "execution_count": 11,
   "outputs": [],
   "source": [
    "clients = pd.DataFrame({\n",
    "    'client_id': [1459, 4684, 3498, 3942, 4535, 2308, 2866, 2765, 1472, 4236, 2295, 939, 3840, 280, 20, 4332, 3475, 4213, 3113, 4809, 2134, 2242, 2068, 4929, 1384, 1589, 3317, 2260, 1727, 1764, 1611, 1474],\n",
    "    'house_id': [8965450190, 6823100225, 5104540330, 2131701075, 1522700060, 1189000207, 6821600300, 7137950720, 9510920050, 6131600255, 5428000070, 1788800910, 8100400160, 3123049142, 6306800010, 5083000375, 7920100025, 1951600150, 809001400, 339600110, 1622049154, 1099600250, 8563000110, 2768100205, 3995700435, 8861700030, 3303980210, 7731100066, 8146100580, 825069097, 3889100029, 9524100196]\n",
    "})"
   ],
   "metadata": {
    "collapsed": false,
    "ExecuteTime": {
     "end_time": "2023-06-27T13:59:45.173726600Z",
     "start_time": "2023-06-27T13:59:45.126857400Z"
    }
   }
  },
  {
   "cell_type": "markdown",
   "source": [
    "### Задача 2.2"
   ],
   "metadata": {
    "collapsed": false
   }
  },
  {
   "cell_type": "code",
   "execution_count": 12,
   "outputs": [],
   "source": [
    "joined_data = clients.join(data, on='house_id')"
   ],
   "metadata": {
    "collapsed": false,
    "ExecuteTime": {
     "end_time": "2023-06-27T14:00:15.624524900Z",
     "start_time": "2023-06-27T14:00:15.577255100Z"
    }
   }
  },
  {
   "cell_type": "markdown",
   "source": [
    "### Задача 2.3"
   ],
   "metadata": {
    "collapsed": false
   }
  },
  {
   "cell_type": "code",
   "execution_count": 13,
   "outputs": [],
   "source": [
    "merged_data = clients.merge(data, left_on='house_id', right_index=True)"
   ],
   "metadata": {
    "collapsed": false,
    "ExecuteTime": {
     "end_time": "2023-06-27T14:00:58.739205900Z",
     "start_time": "2023-06-27T14:00:58.707932600Z"
    }
   }
  },
  {
   "cell_type": "markdown",
   "source": [
    "## Задача 3"
   ],
   "metadata": {
    "collapsed": false
   }
  },
  {
   "cell_type": "markdown",
   "source": [
    "### Задача 3.1"
   ],
   "metadata": {
    "collapsed": false
   }
  },
  {
   "cell_type": "code",
   "execution_count": 14,
   "outputs": [
    {
     "name": "stdout",
     "output_type": "stream",
     "text": [
      "bedrooms\n",
      "1     3.176429e+05\n",
      "2     4.013727e+05\n",
      "0     4.095038e+05\n",
      "3     4.662321e+05\n",
      "11    5.200000e+05\n",
      "4     6.354195e+05\n",
      "33    6.400000e+05\n",
      "5     7.865998e+05\n",
      "10    8.193333e+05\n",
      "6     8.255206e+05\n",
      "9     8.939998e+05\n",
      "7     9.511847e+05\n",
      "8     1.105077e+06\n",
      "Name: price, dtype: float64\n"
     ]
    }
   ],
   "source": [
    "mean_price_by_bedrooms = data.groupby('bedrooms')['price'].mean().sort_values()\n",
    "print(mean_price_by_bedrooms)"
   ],
   "metadata": {
    "collapsed": false,
    "ExecuteTime": {
     "end_time": "2023-06-27T14:01:51.871995100Z",
     "start_time": "2023-06-27T14:01:51.793451300Z"
    }
   }
  },
  {
   "cell_type": "markdown",
   "source": [
    "### Задача 3.2"
   ],
   "metadata": {
    "collapsed": false
   }
  },
  {
   "cell_type": "code",
   "execution_count": 16,
   "outputs": [
    {
     "name": "stdout",
     "output_type": "stream",
     "text": [
      "                min           mean        max\n",
      "condition                                    \n",
      "1           78000.0  334431.666667  1500000.0\n",
      "2           80000.0  327287.145349  2555000.0\n",
      "3           75000.0  542012.578148  7062500.0\n",
      "4           89000.0  521200.390033  7700000.0\n",
      "5          110000.0  612418.089359  3650000.0\n"
     ]
    }
   ],
   "source": [
    "price_stats_by_condition = data.groupby('condition')['price'].agg(['min', 'mean', 'max'])\n",
    "print(price_stats_by_condition)"
   ],
   "metadata": {
    "collapsed": false,
    "ExecuteTime": {
     "end_time": "2023-06-27T14:02:13.655463Z",
     "start_time": "2023-06-27T14:02:13.624217400Z"
    }
   }
  },
  {
   "cell_type": "markdown",
   "source": [
    "### Задача 3.3"
   ],
   "metadata": {
    "collapsed": false
   }
  },
  {
   "cell_type": "code",
   "execution_count": 17,
   "outputs": [
    {
     "name": "stdout",
     "output_type": "stream",
     "text": [
      "view              0      1      2      3      4\n",
      "waterfront                                     \n",
      "0           19489.0  331.0  955.0  491.0  184.0\n",
      "1               NaN    1.0    8.0   19.0  135.0\n"
     ]
    }
   ],
   "source": [
    "count_by_waterfront_view = pd.pivot_table(data, index='waterfront', columns='view', values='id', aggfunc='count')\n",
    "print(count_by_waterfront_view)"
   ],
   "metadata": {
    "collapsed": false,
    "ExecuteTime": {
     "end_time": "2023-06-27T14:02:49.755969Z",
     "start_time": "2023-06-27T14:02:49.724260200Z"
    }
   }
  },
  {
   "cell_type": "markdown",
   "source": [
    "### Задача 3.4"
   ],
   "metadata": {
    "collapsed": false
   }
  },
  {
   "cell_type": "code",
   "execution_count": 18,
   "outputs": [
    {
     "name": "stdout",
     "output_type": "stream",
     "text": [
      "bedrooms   0      1       2       3       4      5      6     7    8    9   \\\n",
      "floors                                                                       \n",
      "1.0       4.0  162.0  1951.0  5455.0  2383.0  605.0  104.0   9.0  5.0  NaN   \n",
      "1.5       NaN   21.0   182.0   786.0   698.0  185.0   30.0   7.0  1.0  NaN   \n",
      "2.0       6.0   12.0   497.0  3118.0  3682.0  775.0  119.0  19.0  6.0  4.0   \n",
      "2.5       NaN    1.0     5.0    56.0    58.0   23.0   14.0   2.0  NaN  2.0   \n",
      "3.0       2.0    3.0   123.0   405.0    61.0   13.0    5.0   1.0  NaN  NaN   \n",
      "3.5       1.0    NaN     2.0     4.0     NaN    NaN    NaN   NaN  1.0  NaN   \n",
      "\n",
      "bedrooms   10   11   33  \n",
      "floors                   \n",
      "1.0       1.0  NaN  1.0  \n",
      "1.5       NaN  NaN  NaN  \n",
      "2.0       2.0  1.0  NaN  \n",
      "2.5       NaN  NaN  NaN  \n",
      "3.0       NaN  NaN  NaN  \n",
      "3.5       NaN  NaN  NaN  \n"
     ]
    }
   ],
   "source": [
    "count_by_floors_bedrooms = pd.pivot_table(data, index='floors', columns='bedrooms', values='id', aggfunc='count')\n",
    "print(count_by_floors_bedrooms)"
   ],
   "metadata": {
    "collapsed": false,
    "ExecuteTime": {
     "end_time": "2023-06-27T14:03:12.242372500Z",
     "start_time": "2023-06-27T14:03:12.187947600Z"
    }
   }
  },
  {
   "cell_type": "markdown",
   "source": [
    "### Задача 3.5"
   ],
   "metadata": {
    "collapsed": false
   }
  },
  {
   "cell_type": "code",
   "execution_count": 19,
   "outputs": [
    {
     "name": "stdout",
     "output_type": "stream",
     "text": [
      "view              0         1         2          3          4\n",
      "condition                                                    \n",
      "1          255000.0  295000.0       NaN        NaN   455000.0\n",
      "2          272405.0  800000.0  375000.0   384065.0        NaN\n",
      "3          436000.0  700000.0  675000.0   805000.0  1187500.0\n",
      "4          419000.0  665900.0  647475.0   790000.0  1088890.0\n",
      "5          487500.0  716250.0  774975.0  1050000.0  1411600.0\n"
     ]
    }
   ],
   "source": [
    "median_price_by_condition_view = pd.pivot_table(data, index='condition', columns='view', values='price', aggfunc='median')\n",
    "print(median_price_by_condition_view)"
   ],
   "metadata": {
    "collapsed": false,
    "ExecuteTime": {
     "end_time": "2023-06-27T14:03:40.938958300Z",
     "start_time": "2023-06-27T14:03:40.858942200Z"
    }
   }
  },
  {
   "cell_type": "code",
   "execution_count": null,
   "outputs": [],
   "source": [],
   "metadata": {
    "collapsed": false
   }
  }
 ],
 "metadata": {
  "kernelspec": {
   "display_name": "Python 3",
   "language": "python",
   "name": "python3"
  },
  "language_info": {
   "codemirror_mode": {
    "name": "ipython",
    "version": 2
   },
   "file_extension": ".py",
   "mimetype": "text/x-python",
   "name": "python",
   "nbconvert_exporter": "python",
   "pygments_lexer": "ipython2",
   "version": "2.7.6"
  }
 },
 "nbformat": 4,
 "nbformat_minor": 0
}
